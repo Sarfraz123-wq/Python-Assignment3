{
 "cells": [
  {
   "cell_type": "code",
   "execution_count": 7,
   "id": "c3d20c9c",
   "metadata": {},
   "outputs": [
    {
     "name": "stdout",
     "output_type": "stream",
     "text": [
      "Twinkle, twinkle, little star, \n",
      "\t How I wonder what you are! \n",
      "\t\t Up above the world so high,\n",
      "\t\t Like a diamond in the sky.\n",
      "Twinkle, twinkle, little star, \n",
      "\t How I wonder what you are!\n"
     ]
    }
   ],
   "source": [
    "'''\n",
    "1. Write a Python program to print the following string in a specific format (see the \n",
    "output).\n",
    "'''\n",
    "print(\"\"\"Twinkle, twinkle, little star, \n",
    "\\t How I wonder what you are! \n",
    "\\t\\t Up above the world so high,\n",
    "\\t\\t Like a diamond in the sky.\n",
    "Twinkle, twinkle, little star, \n",
    "\\t How I wonder what you are!\"\"\")\n",
    "# Using multi line string"
   ]
  },
  {
   "cell_type": "code",
   "execution_count": 27,
   "id": "4a309094",
   "metadata": {},
   "outputs": [
    {
     "name": "stdout",
     "output_type": "stream",
     "text": [
      "Python version\n",
      "3.8.8 (default, Apr 13 2021, 15:08:03) [MSC v.1916 64 bit (AMD64)]\n"
     ]
    }
   ],
   "source": [
    "'''\n",
    "2. Write a Python program to get the Python version you are using \n",
    "'''\n",
    "import sys\n",
    "# Impoting system \n",
    "print(\"Python version\")\n",
    "print (sys.version)"
   ]
  },
  {
   "cell_type": "code",
   "execution_count": 12,
   "id": "f967e8f1",
   "metadata": {},
   "outputs": [
    {
     "name": "stdout",
     "output_type": "stream",
     "text": [
      "Today's datetime is: 2021-10-24 09:12:28.619098\n"
     ]
    }
   ],
   "source": [
    "'''\n",
    "3. Write a Python program to display the current date and time.\n",
    "'''\n",
    "from datetime import datetime\n",
    "# Importing datetime in order to access date time functions\n",
    "today = datetime.today()\n",
    "print(\"Today's datetime is:\", today)\n"
   ]
  },
  {
   "cell_type": "code",
   "execution_count": 17,
   "id": "6c38dc9a",
   "metadata": {},
   "outputs": [
    {
     "name": "stdout",
     "output_type": "stream",
     "text": [
      "Please give the radius of the circle: 5\n",
      "The area of the circle is: 78.53981633974483\n"
     ]
    }
   ],
   "source": [
    "'''\n",
    "4. Write a Python program which accepts the radius of a circle from the user and compute \n",
    "the area\n",
    "'''\n",
    "from math import pi\n",
    "# Impotinh PI from Math\n",
    "radius = float(input (\"Please give the radius of the circle: \"))\n",
    "print(\"The area of the circle is: \", end=\"\")\n",
    "print(pi * radius**2)"
   ]
  },
  {
   "cell_type": "code",
   "execution_count": 21,
   "id": "e0ca6b7b",
   "metadata": {},
   "outputs": [
    {
     "name": "stdout",
     "output_type": "stream",
     "text": [
      "Your First Name is: Sarfraz\n",
      "Your Last Name is: Rasheed\n",
      "Rasheed Sarfraz\n"
     ]
    }
   ],
   "source": [
    "'''\n",
    "5. Write a Python program which accepts the user's first and last name and print them in \n",
    "reverse order with a space between them.\n",
    "'''\n",
    "firstName = input(\"Your First Name is: \")\n",
    "lastName = input(\"Your Last Name is: \")\n",
    "print(lastName + \" \"+ firstName)"
   ]
  },
  {
   "cell_type": "code",
   "execution_count": 26,
   "id": "9e63c6aa",
   "metadata": {},
   "outputs": [
    {
     "name": "stdout",
     "output_type": "stream",
     "text": [
      "First number :5\n",
      "Second number :10\n",
      "The sum is 15.0\n"
     ]
    }
   ],
   "source": [
    "'''\n",
    "6. Write a python program which takes two inputs from user and print them addition \n",
    "'''\n",
    "number1 = float(input(\"First number :\"))\n",
    "number2 = float(input(\"Second number :\"))\n",
    "# to avoid cant concatenate str and numbers.\n",
    "# I'm converting my sum to str.\n",
    "print(\"The sum is \"+str(number1+number2))\n",
    "# Method 2\n",
    "# print(\"The sum is \",end=\" \")\n",
    "# print(number1+number2)"
   ]
  },
  {
   "cell_type": "code",
   "execution_count": 32,
   "id": "ae5f9b2c",
   "metadata": {},
   "outputs": [
    {
     "name": "stdout",
     "output_type": "stream",
     "text": [
      "Your Maths Marks :80\n",
      "Your Physics Marks :85\n",
      "Your Chemistry Marks :75\n",
      "Your Islamiat Marks :90\n",
      "Your English Marks :65\n",
      "My Obtained Marks are: 395\n",
      "My Percentage is: 79.0\n",
      "Grade A\n"
     ]
    }
   ],
   "source": [
    "'''\n",
    "7. Write a program which takes 5 inputs from user for different subject’s marks, total it \n",
    "and generate mark sheet using grades ?\n",
    "'''\n",
    "math = int(input(\"Your Maths Marks :\"))\n",
    "physics = int(input(\"Your Physics Marks :\"))\n",
    "chemistry = int(input(\"Your Chemistry Marks :\"))\n",
    "islamiat = int(input(\"Your Islamiat Marks :\"))\n",
    "english = int(input(\"Your English Marks :\"))\n",
    "obtainedMarks = math + physics + chemistry + islamiat + english\n",
    "print(\"My Obtained Marks are:\",end =\" \")\n",
    "print(obtainedMarks)\n",
    "totalMarks = 500\n",
    "percentage = (obtainedMarks*100)/totalMarks\n",
    "print(\"My Percentage is:\",end =\" \")\n",
    "print(percentage)\n",
    "if(percentage>=80 and percentage<=100):\n",
    "    print(\"Grade A-1\")\n",
    "elif(percentage>=70 and percentage<=80):\n",
    "    print(\"Grade A\")\n",
    "elif(percentage>=60 and percentage<=70):\n",
    "    print(\"Grade B\")\n",
    "elif(percentage>=50 and percentage<=60):\n",
    "    print(\"Grade C\")\n",
    "else: \n",
    "    print(\"Fail\")"
   ]
  },
  {
   "cell_type": "code",
   "execution_count": 43,
   "id": "1bbec910",
   "metadata": {},
   "outputs": [
    {
     "name": "stdout",
     "output_type": "stream",
     "text": [
      "This Number is Even or odd ? 17\n",
      "The given number 17 is odd\n"
     ]
    }
   ],
   "source": [
    "'''\n",
    "8. Write a program which take input from user and identify that the given number is even \n",
    "or odd?\n",
    "'''\n",
    "number = int(input(\"This Number is Even or odd ? \"))\n",
    "if(number%2==0):\n",
    "    print(\"The given number\", number ,\"is even\")\n",
    "else:\n",
    "    print(\"The given number\", number,\"is odd\")\n",
    "\n",
    "\n",
    "\n",
    "\n"
   ]
  },
  {
   "cell_type": "code",
   "execution_count": 49,
   "id": "04931ab0",
   "metadata": {},
   "outputs": [
    {
     "name": "stdout",
     "output_type": "stream",
     "text": [
      "The length of my list is: 8\n"
     ]
    }
   ],
   "source": [
    "'''\n",
    "9. Write a program which print the length of the list? \n",
    "'''\n",
    "# lst = [\"a\",\"b\",\"c\",1,2,3,True,False]\n",
    "# print(len(lst))\n",
    "# Or by using function\n",
    "def lengthOFList(lst):\n",
    "    print(\"The length of my list is:\",end=\" \")\n",
    "    print(len(lst))\n",
    "mylst = [\"a\",\"b\",\"c\",1,2,3,True,False]\n",
    "lengthOFList(mylst)    \n"
   ]
  },
  {
   "cell_type": "code",
   "execution_count": 54,
   "id": "b0b90b39",
   "metadata": {},
   "outputs": [
    {
     "name": "stdout",
     "output_type": "stream",
     "text": [
      "The sum is:  15\n",
      "The sum is:  50\n"
     ]
    }
   ],
   "source": [
    "'''\n",
    "10.Write a Python program to sum all the numeric items in a list? \n",
    "\n",
    "'''\n",
    "def sum(lst):\n",
    "    # lst = [1,2,3,4,5]\n",
    "    sum=0\n",
    "    for i in range(len(lst)):\n",
    "        sum+=lst[i]\n",
    "    print(\"The sum is: \",sum)\n",
    "mylst = [1,2,3,4,5]\n",
    "sum(mylst) \n",
    "mylst2 = [5,10,15,20]\n",
    "sum(mylst2) "
   ]
  },
  {
   "cell_type": "code",
   "execution_count": 60,
   "id": "a055bfb3",
   "metadata": {},
   "outputs": [
    {
     "name": "stdout",
     "output_type": "stream",
     "text": [
      "The Largest number is  50\n",
      "The Largest number is  100\n"
     ]
    }
   ],
   "source": [
    "'''\n",
    "11.Write a Python program to get the largest number from a numeric list. \n",
    "'''\n",
    "def largest(lst):\n",
    "#     mylst = [5,10,15,20,50]\n",
    "    print(\"The Largest number is \",max(lst))\n",
    "mylst = [5,10,15,20,50]\n",
    "largest(mylst)\n",
    "mylst2 = [5,10,45,100,87]\n",
    "largest(mylst2)"
   ]
  },
  {
   "cell_type": "code",
   "execution_count": 61,
   "id": "a91c66fb",
   "metadata": {},
   "outputs": [
    {
     "name": "stdout",
     "output_type": "stream",
     "text": [
      "1\n",
      "1\n",
      "2\n",
      "3\n"
     ]
    }
   ],
   "source": [
    "'''\n",
    "12. Take a list, say for example this one: \n",
    " \n",
    "a = [1, 1, 2, 3, 5, 8, 13, 21, 34, 55, 89] \n",
    " Write a program that prints out all the elements of the list that are less than 5\n",
    "'''\n",
    "a = [1, 1, 2, 3, 5, 8, 13, 21, 34, 55, 89] \n",
    "for i in a:\n",
    "    if i<5:\n",
    "        print(i)"
   ]
  },
  {
   "cell_type": "code",
   "execution_count": null,
   "id": "05a535a1",
   "metadata": {},
   "outputs": [],
   "source": []
  }
 ],
 "metadata": {
  "kernelspec": {
   "display_name": "Python 3",
   "language": "python",
   "name": "python3"
  },
  "language_info": {
   "codemirror_mode": {
    "name": "ipython",
    "version": 3
   },
   "file_extension": ".py",
   "mimetype": "text/x-python",
   "name": "python",
   "nbconvert_exporter": "python",
   "pygments_lexer": "ipython3",
   "version": "3.8.8"
  }
 },
 "nbformat": 4,
 "nbformat_minor": 5
}
